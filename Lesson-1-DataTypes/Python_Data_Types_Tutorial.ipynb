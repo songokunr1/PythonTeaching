{
 "cells": [
  {
   "cell_type": "markdown",
   "id": "34b59dae",
   "metadata": {},
   "source": [
    "# Python Data Types Tutorial\n",
    "\n",
    "This notebook will guide you through the basic and composite data types in Python, their usage, and some useful methods associated with each data type.\n"
   ]
  },
  {
   "cell_type": "markdown",
   "id": "65a91768",
   "metadata": {},
   "source": [
    "## Basic Data Types\n",
    "\n",
    "Python has four basic data types: integers, floats, strings, and booleans. Each of these data types serves a specific purpose and has a set of methods associated with it.\n"
   ]
  },
  {
   "cell_type": "code",
   "execution_count": null,
   "id": "7f93c1e8",
   "metadata": {},
   "outputs": [],
   "source": [
    "# Integers (int)\n",
    "# An integer is a whole number, positive or negative, without decimals.\n",
    "x = 10\n",
    "print(f\"Integer: {x}\")\n",
    "\n",
    "# Useful Method: abs()\n",
    "# Returns the absolute value of a number\n",
    "print(f\"Absolute value of -10: {abs(-10)}\")\n"
   ]
  },
  {
   "cell_type": "code",
   "execution_count": null,
   "id": "0af31fbd",
   "metadata": {},
   "outputs": [],
   "source": [
    "# Floats (float)\n",
    "# A float is a number that contains a decimal point or is used in exponentials.\n",
    "y = 3.14\n",
    "print(f\"Float: {y}\")\n",
    "\n",
    "# Useful Method: round()\n",
    "# Rounds a number to a specified number of decimal places\n",
    "print(f\"3.14159 rounded to 2 decimal places: {round(3.14159, 2)}\")\n"
   ]
  },
  {
   "cell_type": "code",
   "execution_count": null,
   "id": "540161cb",
   "metadata": {},
   "outputs": [],
   "source": [
    "# Strings (str)\n",
    "# A string is a sequence of characters enclosed in single, double, or triple quotes.\n",
    "name = \"Alice\"\n",
    "print(f\"String: {name}\")\n",
    "\n",
    "# Useful Method: upper()\n",
    "# Converts a string to uppercase\n",
    "print(f\"Alice in uppercase: {name.upper()}\")\n"
   ]
  },
  {
   "cell_type": "code",
   "execution_count": null,
   "id": "b1c3105d",
   "metadata": {},
   "outputs": [],
   "source": [
    "# Booleans (bool)\n",
    "# A boolean represents one of two values: True or False.\n",
    "is_student = True\n",
    "print(f\"Boolean: {is_student}\")\n",
    "\n",
    "# Booleans are often used in conditional statements\n",
    "if is_student:\n",
    "    print(\"Welcome, student!\")\n"
   ]
  },
  {
   "cell_type": "markdown",
   "id": "9cb15f43",
   "metadata": {},
   "source": [
    "## Composite Data Types\n",
    "\n",
    "Python also includes several composite data types, such as lists, tuples, dictionaries, and sets, which allow you to store collections of data.\n"
   ]
  },
  {
   "cell_type": "code",
   "execution_count": null,
   "id": "126d7ff0",
   "metadata": {},
   "outputs": [],
   "source": [
    "# Lists\n",
    "# A list is an ordered, mutable collection of items.\n",
    "fruits = [\"apple\", \"banana\", \"cherry\"]\n",
    "print(f\"List: {fruits}\")\n",
    "\n",
    "# Useful Method: append()\n",
    "# Adds an item to the end of the list\n",
    "fruits.append(\"orange\")\n",
    "print(f\"List after append: {fruits}\")\n"
   ]
  },
  {
   "cell_type": "code",
   "execution_count": null,
   "id": "438bb4ba",
   "metadata": {},
   "outputs": [],
   "source": [
    "# Tuples\n",
    "# A tuple is an ordered, immutable collection of items.\n",
    "coordinates = (10, 20)\n",
    "print(f\"Tuple: {coordinates}\")\n",
    "\n",
    "# Tuples don't have many unique methods due to their immutability, but you can use general functions like len()\n",
    "print(f\"Length of tuple: {len(coordinates)}\")\n"
   ]
  },
  {
   "cell_type": "code",
   "execution_count": null,
   "id": "3f7e0730",
   "metadata": {},
   "outputs": [],
   "source": [
    "# Dictionaries\n",
    "# A dictionary is an unordered collection of key-value pairs.\n",
    "person = {\"name\": \"John\", \"age\": 30}\n",
    "print(f\"Dictionary: {person}\")\n",
    "\n",
    "# Useful Method: get()\n",
    "# Returns the value for a specified key in the dictionary\n",
    "print(f\"John's age: {person.get('age')}\")\n"
   ]
  },
  {
   "cell_type": "code",
   "execution_count": null,
   "id": "9e48c047",
   "metadata": {},
   "outputs": [],
   "source": [
    "# Sets\n",
    "# A set is an unordered collection of unique elements.\n",
    "numbers = {1, 2, 3, 3, 4}\n",
    "print(f\"Set: {numbers}\")\n",
    "\n",
    "# Useful Method: add()\n",
    "# Adds an element to the set\n",
    "numbers.add(5)\n",
    "print(f\"Set after add: {numbers}\")\n"
   ]
  }
 ],
 "metadata": {},
 "nbformat": 4,
 "nbformat_minor": 5
}
